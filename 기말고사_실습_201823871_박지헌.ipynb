{
 "cells": [
  {
   "cell_type": "markdown",
   "metadata": {
    "id": "yEt_RO90nSMu"
   },
   "source": [
    "# 기말고사 실기 시험\n",
    "# e비즈니스학과 201823871 박지헌"
   ]
  },
  {
   "cell_type": "code",
   "execution_count": 1,
   "metadata": {
    "id": "PBIT5j8foOoG"
   },
   "outputs": [],
   "source": [
    "import numpy as np\n",
    "import pandas as pd\n",
    "import matplotlib.pyplot as plt\n",
    "import matplotlib\n",
    "%matplotlib inline"
   ]
  },
  {
   "cell_type": "markdown",
   "metadata": {
    "id": "hiTIgCsFnSAP"
   },
   "source": [
    "##  k-means clustering을 수행하시오 [50점]\n",
    "\n",
    "\n",
    "1.   k-means cluster를 학습시키시오. [10점]\n",
    "2.   Elbow point(k는 1~10)를 시각화 하시오 [30점]\n",
    "3.   최적의 K를 제시하고 이유를 설명하시오. [10점]\n",
    "\n"
   ]
  },
  {
   "cell_type": "code",
   "execution_count": 22,
   "metadata": {
    "id": "-GkF6AQdnDeA"
   },
   "outputs": [],
   "source": [
    "# 데이터셋 수정 금지\n",
    "from sklearn.datasets import make_blobs\n",
    "############################\n",
    "\n",
    "centers = [[1, 1], [-1, -1], [1, -1]]\n",
    "X, labels_true = make_blobs(n_samples=3000, centers=centers, cluster_std=0.7)\n",
    "\n",
    "##########################3"
   ]
  },
  {
   "cell_type": "code",
   "execution_count": 33,
   "metadata": {
    "id": "z_Ttnguknp9m"
   },
   "outputs": [
    {
     "data": {
      "text/plain": [
       "KMeans(n_clusters=3, random_state=42)"
      ]
     },
     "execution_count": 33,
     "metadata": {},
     "output_type": "execute_result"
    }
   ],
   "source": [
    "# k-means cluster를 학습시키시오. \n",
    "from sklearn.cluster import KMeans\n",
    "\n",
    "k = 3\n",
    "kmeans = KMeans(n_clusters=k, random_state=42)\n",
    "kmeans.fit(X)"
   ]
  },
  {
   "cell_type": "code",
   "execution_count": 36,
   "metadata": {
    "id": "z_Ttnguknp9m"
   },
   "outputs": [
    {
     "data": {
      "image/png": "[encoded data removed]",
      "text/plain": [
       "<Figure size 576x252 with 1 Axes>"
      ]
     },
     "metadata": {
      "needs_background": "light"
     },
     "output_type": "display_data"
    }
   ],
   "source": [
    "kmeans_per_k = [KMeans(n_clusters=k, random_state=42).fit(X)\n",
    "                for k in range(1, 10)]\n",
    "inertias = [model.inertia_ for model in kmeans_per_k]\n",
    "\n",
    "#시각화 코드\n",
    "#필요시 수정 가능\n",
    "#####################\n",
    "plt.figure(figsize=(8, 3.5))\n",
    "plt.plot(range(1, 10), inertias, \"bo-\")\n",
    "plt.xlabel(\"$k$\", fontsize=14)\n",
    "plt.ylabel(\"Inertia\", fontsize=14)\n",
    "plt.annotate('Elbow Point',\n",
    "             xy=(3, inertias[2]),\n",
    "             xytext=(0.55, 0.55),\n",
    "             textcoords='figure fraction',\n",
    "             fontsize=16,\n",
    "             arrowprops=dict(facecolor='black', shrink=0.1)\n",
    "            )\n",
    "plt.show()\n",
    "######################"
   ]
  },
  {
   "cell_type": "markdown",
   "metadata": {},
   "source": [
    "* Elbow point를 시각화 하였을 때 꺽이는 지점인 3이 최적의 K이다."
   ]
  },
  {
   "cell_type": "markdown",
   "metadata": {
    "id": "Ax9GQFvNnq0z"
   },
   "source": [
    "## naive baysian classfier를 학습시키고 평가하시오.[50점]\n",
    "\n",
    "1.   NB classifier를 학습시키시오. [10점]\n",
    "2.   confusion metirx를 출력하시오. [20점]\n",
    "3.   ROC curve를 시각화하고 AUROC score를 제시하시오. [20점]\n",
    "\n"
   ]
  },
  {
   "cell_type": "code",
   "execution_count": 3,
   "metadata": {
    "id": "cGjPZHzzoU_Y"
   },
   "outputs": [],
   "source": [
    "# 데이터셋 수정 금지\n",
    "\n",
    "from sklearn.model_selection import train_test_split\n",
    "from sklearn.datasets import make_classification\n",
    "############################\n",
    "\n",
    "X,y = make_classification(n_samples = 1000, n_features=20, n_informative=15, n_redundant=0, random_state=42)\n",
    "train_X, test_X, train_y, test_y = train_test_split(X,y, train_size=0.8, test_size=0.2, random_state = 42)\n",
    "\n",
    "##########################3"
   ]
  },
  {
   "cell_type": "code",
   "execution_count": 6,
   "metadata": {
    "id": "RWpo7WzGnxm6"
   },
   "outputs": [
    {
     "data": {
      "text/plain": [
       "GaussianNB()"
      ]
     },
     "execution_count": 6,
     "metadata": {},
     "output_type": "execute_result"
    }
   ],
   "source": [
    "# 1. NB classifier를 학습키시오. [10점]\n",
    "from sklearn.naive_bayes import GaussianNB\n",
    "nbModel = GaussianNB()\n",
    "nbModel.fit(train_X, train_y)"
   ]
  },
  {
   "cell_type": "code",
   "execution_count": 37,
   "metadata": {
    "id": "MtLFuzFZoESz"
   },
   "outputs": [
    {
     "name": "stdout",
     "output_type": "stream",
     "text": [
      "[[76 23]\n",
      " [25 76]]\n"
     ]
    }
   ],
   "source": [
    "# 2. confusion metirx를 출력하시오. [20점]\n",
    "from sklearn.metrics import confusion_matrix\n",
    "y_pred = nbModel.predict(test_X)\n",
    "print(confusion_matrix(test_y, y_pred))"
   ]
  },
  {
   "cell_type": "code",
   "execution_count": 38,
   "metadata": {
    "id": "MtLFuzFZoESz"
   },
   "outputs": [],
   "source": [
    "# 해당 결과에 대한 간략한 결과를 서술하시오.\n",
    "\n",
    "#좋은성능이라고 봏수는 없으나 균등하게 편향되지않은 예측을 한다."
   ]
  },
  {
   "cell_type": "code",
   "execution_count": 10,
   "metadata": {
    "id": "1drZ6yJWoEnb"
   },
   "outputs": [],
   "source": [
    "# 3. ROC curve를 시각화하고 AUROC score를 제시하시오. [20점]\n",
    "from sklearn.metrics import roc_curve, auc\n"
   ]
  },
  {
   "cell_type": "code",
   "execution_count": 15,
   "metadata": {
    "executionInfo": {
     "elapsed": 314,
     "status": "ok",
     "timestamp": 1653669558650,
     "user": {
      "displayName": "이병한",
      "userId": "17139807818283072330"
     },
     "user_tz": -540
    },
    "id": "zNy8Ik7nBYyC"
   },
   "outputs": [
    {
     "data": {
      "image/png": "[encoded data removed]",
      "text/plain": [
       "<Figure size 360x360 with 1 Axes>"
      ]
     },
     "metadata": {
      "needs_background": "light"
     },
     "output_type": "display_data"
    },
    {
     "name": "stdout",
     "output_type": "stream",
     "text": [
      "AUC: 0.86\n"
     ]
    }
   ],
   "source": [
    "# 시각화 코드\n",
    "# 필요시 수정 가능\n",
    "##################\n",
    "fpr, tpr, thresholds = roc_curve(test_y, nbModel.predict_proba(test_X)[:,1])\n",
    "roc_auc = auc(fpr, tpr);\n",
    "\n",
    "plt.rcParams['figure.figsize']=[5,5]\n",
    "plt.figure()\n",
    "lw = 2\n",
    "\n",
    "plt.plot(\n",
    "    fpr,\n",
    "    tpr,\n",
    "    color=\"darkorange\",\n",
    "    lw=lw,\n",
    "    label=\"ROC curve (area = %0.3f)\" % roc_auc,\n",
    ")\n",
    "\n",
    "\n",
    "plt.plot([0, 1], [0, 1], color=\"navy\", lw=lw, linestyle=\"--\")\n",
    "plt.xlim([0.0, 1.0])\n",
    "plt.ylim([0.0, 1.05])\n",
    "plt.xlabel(\"False Positive Rate\")\n",
    "plt.ylabel(\"True Positive Rate\")\n",
    "plt.title(\"ROC\")\n",
    "plt.legend(loc=\"lower right\")\n",
    "plt.show()\n",
    "\n",
    "print(f\"AUC: {roc_auc:.2f}\")\n",
    "##################"
   ]
  }
 ],
 "metadata": {
  "colab": {
   "collapsed_sections": [],
   "name": "기말고사 실습(문제).ipynb",
   "provenance": []
  },
  "kernelspec": {
   "display_name": "Python 3 (ipykernel)",
   "language": "python",
   "name": "python3"
  },
  "language_info": {
   "codemirror_mode": {
    "name": "ipython",
    "version": 3
   },
   "file_extension": ".py",
   "mimetype": "text/x-python",
   "name": "python",
   "nbconvert_exporter": "python",
   "pygments_lexer": "ipython3",
   "version": "3.8.8"
  }
 },
 "nbformat": 4,
 "nbformat_minor": 4
}
